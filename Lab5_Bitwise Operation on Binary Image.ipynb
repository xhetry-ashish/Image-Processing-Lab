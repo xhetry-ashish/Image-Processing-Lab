{
 "cells": [
  {
   "cell_type": "markdown",
   "metadata": {},
   "source": [
    "# AND"
   ]
  },
  {
   "cell_type": "code",
   "execution_count": null,
   "metadata": {},
   "outputs": [],
   "source": [
    "import cv2  \n",
    "import numpy as np  \n",
    "     \n",
    "\n",
    "image1 = cv2.imread('input1.jpg')  \n",
    "image2 = cv2.imread('input2.jpg') \n",
    "img1 = cv2.resize(image1,(256,256))\n",
    "img2 = cv2.resize(image2,(256,256))\n",
    "  \n",
    "  \n",
    "dest_and = cv2.bitwise_and(img2, img1, mask = None) \n",
    "  \n",
    "cv2.imshow('Bitwise And', dest_and) \n",
    "   \n",
    "   \n",
    "cv2.waitKey(0)   \n",
    "cv2.destroyAllWindows() "
   ]
  },
  {
   "cell_type": "markdown",
   "metadata": {},
   "source": [
    "# OR\n"
   ]
  },
  {
   "cell_type": "code",
   "execution_count": null,
   "metadata": {},
   "outputs": [],
   "source": [
    "import cv2  \n",
    "import numpy as np  \n",
    "     \n",
    "\n",
    "image1 = cv2.imread('input1.jpg')  \n",
    "image2 = cv2.imread('input2.jpg') \n",
    "img1 = cv2.resize(image1,(256,256))\n",
    "img2 = cv2.resize(image2,(256,256))\n",
    "  \n",
    "  \n",
    "dest_and = cv2.bitwise_or(img2, img1, mask = None) \n",
    "  \n",
    "cv2.imshow('Bitwise OR', dest_and) \n",
    "   \n",
    "   \n",
    "cv2.waitKey(0)   \n",
    "cv2.destroyAllWindows() "
   ]
  },
  {
   "cell_type": "markdown",
   "metadata": {},
   "source": [
    "# XOR"
   ]
  },
  {
   "cell_type": "code",
   "execution_count": null,
   "metadata": {},
   "outputs": [],
   "source": [
    "import cv2  \n",
    "import numpy as np  \n",
    "     \n",
    "\n",
    "image1 = cv2.imread('input1.jpg')  \n",
    "image2 = cv2.imread('input2.jpg') \n",
    "img1 = cv2.resize(image1,(256,256))\n",
    "img2 = cv2.resize(image2,(256,256))\n",
    "  \n",
    "  \n",
    "dest_and = cv2.bitwise_xor(img2, img1, mask = None) \n",
    "  \n",
    "cv2.imshow('Bitwise XOR', dest_and) \n",
    "   \n",
    "   \n",
    "cv2.waitKey(0)   \n",
    "cv2.destroyAllWindows() "
   ]
  },
  {
   "cell_type": "markdown",
   "metadata": {},
   "source": [
    "# NOT"
   ]
  },
  {
   "cell_type": "code",
   "execution_count": null,
   "metadata": {},
   "outputs": [],
   "source": [
    "  \n",
    "import cv2  \n",
    "import numpy as np   \n",
    "image1 = cv2.imread('input1.jpg')  \n",
    "image2 = cv2.imread('input2.jpg') \n",
    "  \n",
    "\n",
    "dest_not1 = cv2.bitwise_not(image1, mask = None) \n",
    "dest_not2 = cv2.bitwise_not(image2, mask = None) \n",
    "  \n",
    "cv2.imshow('Bitwise NOT on image 1', dest_not1) \n",
    "cv2.imshow('Bitwise NOT on image 2', dest_not2)\n",
    "cv2.waitKey(0)\n",
    "cv2.destroyAllWindows()"
   ]
  },
  {
   "cell_type": "code",
   "execution_count": null,
   "metadata": {},
   "outputs": [],
   "source": []
  }
 ],
 "metadata": {
  "kernelspec": {
   "display_name": "Python 3",
   "language": "python",
   "name": "python3"
  },
  "language_info": {
   "codemirror_mode": {
    "name": "ipython",
    "version": 3
   },
   "file_extension": ".py",
   "mimetype": "text/x-python",
   "name": "python",
   "nbconvert_exporter": "python",
   "pygments_lexer": "ipython3",
   "version": "3.6.5"
  }
 },
 "nbformat": 4,
 "nbformat_minor": 2
}
