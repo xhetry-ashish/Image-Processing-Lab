{
 "cells": [
  {
   "cell_type": "code",
   "execution_count": 1,
   "metadata": {},
   "outputs": [
    {
     "data": {
      "text/plain": [
       "-1"
      ]
     },
     "execution_count": 1,
     "metadata": {},
     "output_type": "execute_result"
    }
   ],
   "source": [
    "#sharpening of an image\n",
    "\n",
    "import cv2 \n",
    "import numpy as np\n",
    "import matplotlib.pyplot as plt\n",
    "\n",
    "image = cv2.imread('eye.jpg',cv2.COLOR_BGR2GRAY)\n",
    "cv2.imshow(\"Original\",image)\n",
    "\n",
    "gauss_mask = cv2.GaussianBlur(image,(9,9),10.0)\n",
    "image_sharp = cv2.addWeighted(image,2,gauss_mask,-1,0)\n",
    "\n",
    "cv2.imshow(\"Sharpen\",image_sharp)\n",
    "\n",
    "#High Kernel 3*3\n",
    "kernel = np.array([[-1,-1,-1],\n",
    "                  [-1,8,-1],\n",
    "                  [-1,-1,-1]])\n",
    "\n",
    "#image_hpf \n",
    "image_hpf = cv2.filter2D(image,-1,kernel)\n",
    "cv2.imshow(\"High Filter\",image)\n",
    "\n",
    "cv2.waitKey(0)"
   ]
  },
  {
   "cell_type": "code",
   "execution_count": null,
   "metadata": {},
   "outputs": [],
   "source": []
  }
 ],
 "metadata": {
  "kernelspec": {
   "display_name": "Python 3",
   "language": "python",
   "name": "python3"
  },
  "language_info": {
   "codemirror_mode": {
    "name": "ipython",
    "version": 3
   },
   "file_extension": ".py",
   "mimetype": "text/x-python",
   "name": "python",
   "nbconvert_exporter": "python",
   "pygments_lexer": "ipython3",
   "version": "3.7.4"
  }
 },
 "nbformat": 4,
 "nbformat_minor": 2
}
