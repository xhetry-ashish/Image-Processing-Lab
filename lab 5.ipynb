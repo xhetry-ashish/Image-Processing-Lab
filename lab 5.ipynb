{
 "cells": [
  {
   "cell_type": "code",
   "execution_count": null,
   "metadata": {},
   "outputs": [],
   "source": [
    "import cv2\n",
    "import numpy as np\n",
    "\n",
    "image1=cv2.imread('3.png',0)\n",
    "image2=cv2.imread('messi.jpg',0)\n",
    "\n",
    "img1=cv2.resize(image1,(256,256))\n",
    "img2=cv2.resize(image2,(256,256))\n",
    "\n",
    "dest_and = cv2.bitwise_and(img2,img1,mask=None)\n",
    "dest_or = cv2.bitwise_or(img1,img2,mask=None)\n",
    "dest_xor = cv2.bitwise_xor(img1,img2,mask=None)\n",
    "dest_not=cv2.bitwise_not(img1)\n",
    "\n",
    "cv2.imshow('Bitwise And',dest_and)\n",
    "cv2.imshow('Bitwise Or',dest_or)\n",
    "cv2.imshow('Bitwise Xor',dest_xor)\n",
    "cv2.imshow('not',dest_not)\n",
    "\n",
    "cv2.waitKey(0)\n",
    "cv2.destroyallwindows()\n"
   ]
  },
  {
   "cell_type": "code",
   "execution_count": null,
   "metadata": {},
   "outputs": [],
   "source": []
  }
 ],
 "metadata": {
  "kernelspec": {
   "display_name": "Python 3",
   "language": "python",
   "name": "python3"
  },
  "language_info": {
   "codemirror_mode": {
    "name": "ipython",
    "version": 3
   },
   "file_extension": ".py",
   "mimetype": "text/x-python",
   "name": "python",
   "nbconvert_exporter": "python",
   "pygments_lexer": "ipython3",
   "version": "3.7.4"
  }
 },
 "nbformat": 4,
 "nbformat_minor": 2
}
