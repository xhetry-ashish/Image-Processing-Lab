{
 "cells": [
  {
   "cell_type": "code",
   "execution_count": null,
   "metadata": {},
   "outputs": [],
   "source": [
    "import cv2\n",
    "import numpy as np\n",
    "from matplotlib import pyplot as plt \n",
    "img_1 = cv2.imread('fractured.png',0)\n",
    "\n",
    "gamma = 2\n",
    "img_2 = np.power(img_1,gamma)\n",
    "\n",
    "gamma = 3\n",
    "img_3 = np.power(img_1,gamma)\n",
    "\n",
    "gamma = 4\n",
    "img_4 = np.power(img_1,gamma)\n",
    "\n",
    "cv2.imshow('input_image',img_1)\n",
    "cv2.imshow('gamma 2',img_2)\n",
    "cv2.imshow('gamma 3',img_3)\n",
    "cv2.imshow('gamma 4',img_4)\n",
    "cv2.waitKey(100000000)\n",
    "cv2.destroyAllWindows()\n"
   ]
  },
  {
   "cell_type": "code",
   "execution_count": null,
   "metadata": {},
   "outputs": [],
   "source": []
  }
 ],
 "metadata": {
  "kernelspec": {
   "display_name": "Python 3",
   "language": "python",
   "name": "python3"
  },
  "language_info": {
   "codemirror_mode": {
    "name": "ipython",
    "version": 3
   },
   "file_extension": ".py",
   "mimetype": "text/x-python",
   "name": "python",
   "nbconvert_exporter": "python",
   "pygments_lexer": "ipython3",
   "version": "3.6.5"
  }
 },
 "nbformat": 4,
 "nbformat_minor": 2
}
