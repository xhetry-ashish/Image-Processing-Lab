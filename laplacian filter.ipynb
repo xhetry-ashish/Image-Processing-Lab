{
 "cells": [
  {
   "cell_type": "code",
   "execution_count": null,
   "metadata": {},
   "outputs": [],
   "source": [
    "\n",
    "import cv2\n",
    "import numpy as np\n",
    "from matplotlib import pyplot as plt\n",
    "\n",
    "image = cv2.imread(\"messi.jpg\", cv2.COLOR_BGR2GRAY)\n",
    "cv2.imshow(\"Input\", image)\n",
    "#Using 2nd order Laplacian Operator without Gaussian Filter\n",
    "imageWob = cv2.Laplacian(image, cv2.CV_64F,ksize=1)\n",
    "cv2.imshow(\"Output : 2nd Ord Derivative w/o Blur\",imageWob)\n",
    "#Using Gaussian Filter to remove Noise\n",
    "image = cv2.GaussianBlur(image, (3, 3), 5.0)  # remove noise with Gaussian blur\n",
    "image = cv2.Laplacian(image, cv2.CV_64F, ksize=1)\n",
    "cv2.imshow(\"Output : 2nd Ord Derivative\", image)\n",
    "cv2.waitKey(0)"
   ]
  },
  {
   "cell_type": "code",
   "execution_count": null,
   "metadata": {},
   "outputs": [],
   "source": []
  },
  {
   "cell_type": "code",
   "execution_count": null,
   "metadata": {},
   "outputs": [],
   "source": []
  },
  {
   "cell_type": "code",
   "execution_count": null,
   "metadata": {},
   "outputs": [],
   "source": []
  },
  {
   "cell_type": "code",
   "execution_count": null,
   "metadata": {},
   "outputs": [],
   "source": []
  }
 ],
 "metadata": {
  "kernelspec": {
   "display_name": "Python 3",
   "language": "python",
   "name": "python3"
  },
  "language_info": {
   "codemirror_mode": {
    "name": "ipython",
    "version": 3
   },
   "file_extension": ".py",
   "mimetype": "text/x-python",
   "name": "python",
   "nbconvert_exporter": "python",
   "pygments_lexer": "ipython3",
   "version": "3.7.4"
  }
 },
 "nbformat": 4,
 "nbformat_minor": 2
}
