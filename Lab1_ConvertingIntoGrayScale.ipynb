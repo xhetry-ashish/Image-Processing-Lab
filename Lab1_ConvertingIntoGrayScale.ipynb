{
 "cells": [
  {
   "cell_type": "code",
   "execution_count": null,
   "metadata": {},
   "outputs": [],
   "source": [
    "#Opening an image,printing its shape and converting into grayscale\n",
    "\n",
    "#import numpy and open-cv\n",
    "import numpy as np\n",
    "import cv2 \n",
    "from matplotlib import pyplot as plt\n",
    "\n",
    "#Read the image into img\n",
    "img = cv2.imread('pic.jpg')\n",
    "\n",
    "#display image\n",
    "cv2.imshow('pic',img)\n",
    "\n",
    "#Change picture into grayscale and display it\n",
    "img1 = cv2.imread('pic.jpg',0)\n",
    "plt.imshow('GrayPic',img1)\n",
    "\n",
    "#display image indefinitely until closed\n",
    "cv2.waitKey(0)\n",
    "\n",
    "#clear windows\n",
    "cv2.destroyAllWindows()\n",
    "\n",
    "#shape returns a tuple of the number of rows, columns, and channels (if the image is color)\n",
    "print(img.shape)\n",
    "\n",
    "print(img[:,:,0])"
   ]
  },
  {
   "cell_type": "code",
   "execution_count": null,
   "metadata": {},
   "outputs": [],
   "source": []
  }
 ],
 "metadata": {
  "kernelspec": {
   "display_name": "Python 3",
   "language": "python",
   "name": "python3"
  },
  "language_info": {
   "codemirror_mode": {
    "name": "ipython",
    "version": 3
   },
   "file_extension": ".py",
   "mimetype": "text/x-python",
   "name": "python",
   "nbconvert_exporter": "python",
   "pygments_lexer": "ipython3",
   "version": "3.6.5"
  }
 },
 "nbformat": 4,
 "nbformat_minor": 2
}
