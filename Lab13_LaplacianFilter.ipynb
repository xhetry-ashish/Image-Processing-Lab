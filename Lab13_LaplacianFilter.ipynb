{
 "cells": [
  {
   "cell_type": "code",
   "execution_count": null,
   "metadata": {},
   "outputs": [],
   "source": [
    "#laplacian filter\n",
    "\n",
    "\n",
    "import cv2 \n",
    "import numpy as np\n",
    "import matplotlib.pyplot as plt\n",
    "\n",
    "image = cv2.imread(\"messi.jpg\",cv2.COLOR_BGR2GRAY)\n",
    "cv2.imshow(\"Input\",image)\n",
    "\n",
    "imageWob = cv2.Laplacian(image,cv2.CV_64F,ksize = 1)\n",
    "cv2.imshow(\"2nd Order Derivative Without blur\",imageWob)\n",
    "\n",
    "\n",
    "image_hpf = cv2.GaussianBlur(image,(3,3),5.0)\n",
    "image = cv2.Laplacian(image,cv2.CV_64F,ksize=1)\n",
    "cv2.imshow(\"2nd Order Derivative with blur\",image)\n",
    "\n",
    "cv2.waitKey(0)"
   ]
  },
  {
   "cell_type": "code",
   "execution_count": null,
   "metadata": {},
   "outputs": [],
   "source": []
  },
  {
   "cell_type": "code",
   "execution_count": null,
   "metadata": {},
   "outputs": [],
   "source": []
  }
 ],
 "metadata": {
  "kernelspec": {
   "display_name": "Python 3",
   "language": "python",
   "name": "python3"
  },
  "language_info": {
   "codemirror_mode": {
    "name": "ipython",
    "version": 3
   },
   "file_extension": ".py",
   "mimetype": "text/x-python",
   "name": "python",
   "nbconvert_exporter": "python",
   "pygments_lexer": "ipython3",
   "version": "3.7.4"
  }
 },
 "nbformat": 4,
 "nbformat_minor": 2
}
