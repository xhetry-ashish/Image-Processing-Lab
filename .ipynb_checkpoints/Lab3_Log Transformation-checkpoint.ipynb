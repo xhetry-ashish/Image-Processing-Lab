{
 "cells": [
  {
   "cell_type": "code",
   "execution_count": null,
   "metadata": {},
   "outputs": [],
   "source": [
    "#log transformation\n",
    "\n",
    "import cv2 \n",
    "import numpy as np\n",
    "\n",
    "img_1 = cv2.imread('dft.png',0)\n",
    "\n",
    "# converting into integer data type\n",
    "img_2 = np.uint8(np.log1p(img_1))\n",
    "\n",
    "thresh = 1\n",
    "img_3 = cv2.threshold(img_2, thresh, 255, cv2.THRESH_BINARY)[1]\n",
    "\n",
    "cv2.imshow('input image', img_1)\n",
    "cv2.imshow('log transformed', img_3)\n",
    "cv2.waitKey(100000000)\n",
    "cv2.destroyAllWindows()\n"
   ]
  },
  {
   "cell_type": "code",
   "execution_count": null,
   "metadata": {},
   "outputs": [],
   "source": []
  }
 ],
 "metadata": {
  "kernelspec": {
   "display_name": "Python 3",
   "language": "python",
   "name": "python3"
  },
  "language_info": {
   "codemirror_mode": {
    "name": "ipython",
    "version": 3
   },
   "file_extension": ".py",
   "mimetype": "text/x-python",
   "name": "python",
   "nbconvert_exporter": "python",
   "pygments_lexer": "ipython3",
   "version": "3.7.4"
  }
 },
 "nbformat": 4,
 "nbformat_minor": 2
}
