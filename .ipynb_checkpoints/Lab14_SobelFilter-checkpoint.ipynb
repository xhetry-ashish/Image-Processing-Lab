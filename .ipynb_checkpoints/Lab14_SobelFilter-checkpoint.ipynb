{
 "cells": [
  {
   "cell_type": "code",
   "execution_count": null,
   "metadata": {},
   "outputs": [],
   "source": [
    "#sobel filter\n",
    "\n",
    "import cv2 \n",
    "import numpy as np\n",
    "import matplotlib.pyplot as plt\n",
    "\n",
    "image = cv2.imread(\"chess.jpg\",cv2.COLOR_BGR2GRAY)\n",
    "cv2.imshow(\"Input\",image)\n",
    "\n",
    "image1= cv2.Sobel(image,cv2.CV_64F,1,0,ksize = 1)\n",
    "image2= cv2.Sobel(image,cv2.CV_64F,0,1,ksize = 1)\n",
    "\n",
    "cv2.imshow(\"Output: Sobel X-Axis\",image1)\n",
    "cv2.imshow(\"Output: Sobel Y-Axis\",image2)\n",
    "\n",
    "cv2.waitKey(0)"
   ]
  },
  {
   "cell_type": "code",
   "execution_count": null,
   "metadata": {},
   "outputs": [],
   "source": []
  }
 ],
 "metadata": {
  "kernelspec": {
   "display_name": "Python 3",
   "language": "python",
   "name": "python3"
  },
  "language_info": {
   "codemirror_mode": {
    "name": "ipython",
    "version": 3
   },
   "file_extension": ".py",
   "mimetype": "text/x-python",
   "name": "python",
   "nbconvert_exporter": "python",
   "pygments_lexer": "ipython3",
   "version": "3.7.4"
  }
 },
 "nbformat": 4,
 "nbformat_minor": 2
}
