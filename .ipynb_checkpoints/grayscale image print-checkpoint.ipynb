{
 "cells": [
  {
   "cell_type": "markdown",
   "metadata": {},
   "source": [
    "OPEN CV IMAGE READ PROGRAM"
   ]
  },
  {
   "cell_type": "code",
   "execution_count": 1,
   "metadata": {},
   "outputs": [
    {
     "name": "stdout",
     "output_type": "stream",
     "text": [
      "(183, 275, 3)\n",
      "(183, 275)\n",
      "[[194 195 197 ... 149 149 148]\n",
      " [196 197 199 ... 150 150 149]\n",
      " [199 200 202 ... 151 151 151]\n",
      " ...\n",
      " [ 48  47  46 ...  26  26  26]\n",
      " [ 46  46  44 ...  26  26  26]\n",
      " [ 44  44  42 ...  26  26  26]]\n"
     ]
    }
   ],
   "source": [
    "#program to load an color image in grayscale \n",
    "import numpy as np\n",
    "import cv2\n",
    "\n",
    "\n",
    "#cv2.imread() method loads an image from the specified file\n",
    "img = cv2.imread('download.jpg')\n",
    "\n",
    "#cv2.imshow() method is used to display an image in a window\n",
    "cv2.imshow('image',img)\n",
    "\n",
    "# Using 0 to read image in grayscale mode and  display it\n",
    "img1 = cv2.imread('download.jpg',0)\n",
    "cv2.imshow('g',img1)\n",
    "\n",
    "#waitKey(0) will display the window infinitely until any keypress\n",
    "cv2.waitKey(0)\n",
    "\n",
    "#cv2.destroyAllWindows() simply destroys all the windows we created.\n",
    "cv2.destroyAllWindows()\n",
    "#(img.shape) returns a tuple of number of rows, columns \n",
    "#and channels (if image is color)\n",
    "print(img.shape)\n",
    "print(img1.shape)\n",
    "\n",
    "print(img[:,:,0])"
   ]
  },
  {
   "cell_type": "code",
   "execution_count": null,
   "metadata": {},
   "outputs": [],
   "source": []
  },
  {
   "cell_type": "code",
   "execution_count": null,
   "metadata": {},
   "outputs": [],
   "source": []
  },
  {
   "cell_type": "code",
   "execution_count": null,
   "metadata": {},
   "outputs": [],
   "source": []
  },
  {
   "cell_type": "code",
   "execution_count": null,
   "metadata": {},
   "outputs": [],
   "source": []
  },
  {
   "cell_type": "code",
   "execution_count": null,
   "metadata": {},
   "outputs": [],
   "source": []
  },
  {
   "cell_type": "code",
   "execution_count": null,
   "metadata": {},
   "outputs": [],
   "source": []
  }
 ],
 "metadata": {
  "kernelspec": {
   "display_name": "Python 3",
   "language": "python",
   "name": "python3"
  },
  "language_info": {
   "codemirror_mode": {
    "name": "ipython",
    "version": 3
   },
   "file_extension": ".py",
   "mimetype": "text/x-python",
   "name": "python",
   "nbconvert_exporter": "python",
   "pygments_lexer": "ipython3",
   "version": "3.7.4"
  }
 },
 "nbformat": 4,
 "nbformat_minor": 2
}
