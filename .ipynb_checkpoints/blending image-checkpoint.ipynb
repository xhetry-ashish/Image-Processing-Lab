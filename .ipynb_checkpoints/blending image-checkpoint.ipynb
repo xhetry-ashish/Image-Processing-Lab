{
 "cells": [
  {
   "cell_type": "code",
   "execution_count": null,
   "metadata": {},
   "outputs": [
    {
     "name": "stdout",
     "output_type": "stream",
     "text": [
      "(250, 499, 3)\n",
      "(328, 400, 3)\n"
     ]
    }
   ],
   "source": [
    "# Blending of image\n",
    "\n",
    "import cv2\n",
    "import numpy as np\n",
    "img1= cv2.imread('3.png')\n",
    "img2= cv2.imread('horse.png')\n",
    "print(img1.shape)\n",
    "print(img2.shape)\n",
    "img1= cv2.resize(img1,(400,400))\n",
    "img2= cv2.resize(img2,(400,400))\n",
    "dst= cv2.addWeighted(img1,0.5,img2,0.5,0)\n",
    "\n",
    "cv2.imshow('dst',dst)\n",
    "cv2.waitKey(0)\n",
    "cv2.destroyallwindows()\n",
    "\n"
   ]
  },
  {
   "cell_type": "code",
   "execution_count": null,
   "metadata": {},
   "outputs": [],
   "source": []
  },
  {
   "cell_type": "code",
   "execution_count": null,
   "metadata": {},
   "outputs": [],
   "source": []
  }
 ],
 "metadata": {
  "kernelspec": {
   "display_name": "Python 3",
   "language": "python",
   "name": "python3"
  },
  "language_info": {
   "codemirror_mode": {
    "name": "ipython",
    "version": 3
   },
   "file_extension": ".py",
   "mimetype": "text/x-python",
   "name": "python",
   "nbconvert_exporter": "python",
   "pygments_lexer": "ipython3",
   "version": "3.7.4"
  }
 },
 "nbformat": 4,
 "nbformat_minor": 2
}
