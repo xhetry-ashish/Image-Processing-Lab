{
 "cells": [
  {
   "cell_type": "code",
   "execution_count": null,
   "metadata": {},
   "outputs": [],
   "source": [
    "import cv2\n",
    "import numpy as np\n",
    "\n",
    "#lets load a simple  image with  3 black squares\n",
    "image = cv2.imread('messi.jpg')\n",
    "cv2.waitKey(0)\n",
    "\n",
    "#grayscale\n",
    "gray = cv2.cvtColor(image,cv2.COLOR_BGR2GRAY)\n",
    "\n",
    "#find  canny edges\n",
    "\n",
    "edged= cv2.Canny(gray,30,200)\n",
    "cv2.waitKey(0)\n",
    "\n",
    "#finding contours\n",
    "\n",
    "#use a copy of the image e.g edged copy()\n",
    "\n",
    "img,contours,hierarchy = cv2.findContours(edged,cv2.RETR_EXTERNAL,cv2.CHAIN_APPROX_SIMPLE)\n",
    "cv2.imshow('canny edges after contouring',edged)\n",
    "cv2.waitKey(0)\n",
    "print(\"Number of  Contours found =\" +str(len(contours)))\n",
    "\n",
    "#draw all contours\n",
    "#-1 signifies drawing all contours\n",
    "cv2.drawContours(image,contours,-1,(0,255,0),3)\n",
    "\n",
    "cv2.imshow('contours',image)\n",
    "cv2.waitKey(0)\n",
    "cv2.destroyAllWindows()\n"
   ]
  }
 ],
 "metadata": {
  "kernelspec": {
   "display_name": "Python 3",
   "language": "python",
   "name": "python3"
  },
  "language_info": {
   "codemirror_mode": {
    "name": "ipython",
    "version": 3
   },
   "file_extension": ".py",
   "mimetype": "text/x-python",
   "name": "python",
   "nbconvert_exporter": "python",
   "pygments_lexer": "ipython3",
   "version": "3.7.4"
  }
 },
 "nbformat": 4,
 "nbformat_minor": 2
}
