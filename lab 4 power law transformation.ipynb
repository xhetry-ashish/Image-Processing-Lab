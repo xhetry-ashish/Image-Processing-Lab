{
 "cells": [
  {
   "cell_type": "code",
   "execution_count": null,
   "metadata": {},
   "outputs": [],
   "source": [
    "#power law transformation\n",
    "\n",
    "import cv2\n",
    "import numpy as np\n",
    "from matplotlib import pyplot as plt\n",
    "\n",
    "img_1=cv2.imread('power.jpg',0)\n",
    "\n",
    "gamma=1\n",
    "img_2=np.power(img_1,gamma)\n",
    "gamma=1.5\n",
    "img_3=np.power(img_1,gamma)\n",
    "gamma=2\n",
    "img_4=np.power(img_1,gamma)\n",
    "\n",
    "cv2.imshow('input image',img_1)\n",
    "cv2.imshow('gamma 2',img_2)\n",
    "cv2.imshow('gamma 3',img_3)\n",
    "cv2.imshow('gamma 4',img_4)\n",
    "# plt.subplot(141),plt.imshow(img_1),plt.title('input image')\n",
    "# plt.xticks([]), plt.yticks([])\n",
    "# plt.subplot(142),plt.imshow(img_2),plt.title('gamma 2')\n",
    "# plt.xticks([]), plt.yticks([])\n",
    "# plt.subplot(143),plt.imshow(img_3),plt.title('gamma 3')\n",
    "# plt.xticks([]), plt.yticks([])\n",
    "# plt.subplot(144),plt.imshow(img_4),plt.title('gamma 4')\n",
    "# plt.xticks([]), plt.yticks([])\n",
    "# plt.show()\n",
    "cv2.waitKey(1000000)\n",
    "cv2.destroyallwindows()\n"
   ]
  },
  {
   "cell_type": "code",
   "execution_count": null,
   "metadata": {},
   "outputs": [],
   "source": []
  },
  {
   "cell_type": "code",
   "execution_count": null,
   "metadata": {},
   "outputs": [],
   "source": []
  },
  {
   "cell_type": "code",
   "execution_count": null,
   "metadata": {},
   "outputs": [],
   "source": []
  },
  {
   "cell_type": "code",
   "execution_count": null,
   "metadata": {},
   "outputs": [],
   "source": []
  },
  {
   "cell_type": "code",
   "execution_count": null,
   "metadata": {},
   "outputs": [],
   "source": []
  }
 ],
 "metadata": {
  "kernelspec": {
   "display_name": "Python 3",
   "language": "python",
   "name": "python3"
  },
  "language_info": {
   "codemirror_mode": {
    "name": "ipython",
    "version": 3
   },
   "file_extension": ".py",
   "mimetype": "text/x-python",
   "name": "python",
   "nbconvert_exporter": "python",
   "pygments_lexer": "ipython3",
   "version": "3.7.4"
  }
 },
 "nbformat": 4,
 "nbformat_minor": 2
}
